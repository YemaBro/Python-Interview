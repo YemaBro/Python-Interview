{
 "cells": [
  {
   "cell_type": "code",
   "execution_count": 1,
   "metadata": {},
   "outputs": [
    {
     "data": {
      "text/plain": [
       "5050"
      ]
     },
     "execution_count": 1,
     "metadata": {},
     "output_type": "execute_result"
    }
   ],
   "source": [
    "# 一行代码实现1-100之和\n",
    "\n",
    "sum(range(1, 101))"
   ]
  },
  {
   "cell_type": "code",
   "execution_count": 2,
   "metadata": {},
   "outputs": [
    {
     "name": "stdout",
     "output_type": "stream",
     "text": [
      "4\n"
     ]
    }
   ],
   "source": [
    "# 如何在一个函数内部修改全局变量\n",
    "\n",
    "a = 5\n",
    "def fun():\n",
    "    global a \n",
    "    a = 4\n",
    "    \n",
    "fun()\n",
    "print(a)"
   ]
  },
  {
   "cell_type": "code",
   "execution_count": 9,
   "metadata": {},
   "outputs": [
    {
     "data": {
      "text/plain": [
       "'\\n因为Python并没有私有变量的概念，所以约定俗成以下划线为开头来声明一个变量为私有。\\n所以如果你不想让变量私有，就不要使用下划线开头\\n'"
      ]
     },
     "execution_count": 9,
     "metadata": {},
     "output_type": "execute_result"
    }
   ],
   "source": [
    "# 为何不建议以下划线作为标识符的开头？\n",
    "\n",
    "'''\n",
    "因为Python并没有私有变量的概念，所以约定俗成以下划线为开头来声明一个变量为私有。\n",
    "所以如果你不想让变量私有，就不要使用下划线开头\n",
    "'''\n"
   ]
  },
  {
   "cell_type": "code",
   "execution_count": 4,
   "metadata": {},
   "outputs": [],
   "source": [
    "# 列出5个Python标准库\n",
    "\n",
    "import os # 提供了不少与操作系统相关的函数\n",
    "import sys # 通常用于命令行参数\n",
    "import re # 正则匹配\n",
    "import math # 数学运算\n",
    "import datetime # 处理日期时间"
   ]
  },
  {
   "cell_type": "code",
   "execution_count": 5,
   "metadata": {},
   "outputs": [
    {
     "name": "stdout",
     "output_type": "stream",
     "text": [
      "{'name': 'Tom', 'age': 18}\n",
      "{'name': 'Tom'}\n",
      "{'name': 'Tom', 'age': 20}\n"
     ]
    }
   ],
   "source": [
    "# 字典如何删除键和合并两个字典\n",
    "\n",
    "# del和update方法\n",
    "\n",
    "my_dict1 = {'name': 'Tom', 'age': 18}\n",
    "print(my_dict1)\n",
    "del my_dict1['age']\n",
    "print(my_dict1)\n",
    "\n",
    "my_dict2 = {'age': 20}\n",
    "my_dict1.update(my_dict2)\n",
    "print(my_dict1)"
   ]
  },
  {
   "cell_type": "code",
   "execution_count": 7,
   "metadata": {},
   "outputs": [
    {
     "name": "stdout",
     "output_type": "stream",
     "text": [
      "获取实例\n",
      "没有实例，第一次初始化\n",
      "获取实例\n"
     ]
    }
   ],
   "source": [
    "# 请手写一个单例模式\n",
    "\n",
    "class Singleton:\n",
    "    def __new__(cls, *args, **kwargs):\n",
    "        print('获取实例')\n",
    "        if not hasattr(cls, '_instance'):\n",
    "            print('没有实例，第一次初始化')\n",
    "            cls._instance = super(Singleton, cls).__init__(cls, *args, **kwargs)\n",
    "        return cls._instance\n",
    "\n",
    "s1 = Singleton()\n",
    "s2 = Singleton()\n",
    "\n",
    "# 输出结果：\n",
    "# 获取实例\n",
    "# 没有实例，第一次初始化\n",
    "# 获取实例"
   ]
  },
  {
   "cell_type": "code",
   "execution_count": 8,
   "metadata": {},
   "outputs": [
    {
     "ename": "SyntaxError",
     "evalue": "invalid syntax (<ipython-input-8-ef3b152e430d>, line 3)",
     "output_type": "error",
     "traceback": [
      "\u001b[0;36m  File \u001b[0;32m\"<ipython-input-8-ef3b152e430d>\"\u001b[0;36m, line \u001b[0;32m3\u001b[0m\n\u001b[0;31m    ```\u001b[0m\n\u001b[0m    ^\u001b[0m\n\u001b[0;31mSyntaxError\u001b[0m\u001b[0;31m:\u001b[0m invalid syntax\n"
     ]
    }
   ],
   "source": [
    "# Python有哪些特点和优点？\n",
    "\n",
    "'''\n",
    "可解释性\n",
    "具有动态特性\n",
    "面向对象\n",
    "简明简单\n",
    "开源\n",
    "具有强大的社区支持\n",
    "'''"
   ]
  },
  {
   "cell_type": "code",
   "execution_count": 11,
   "metadata": {},
   "outputs": [
    {
     "name": "stdout",
     "output_type": "stream",
     "text": [
      "create\n",
      "delete\n",
      "save\n",
      "update\n"
     ]
    }
   ],
   "source": [
    "# 请手写一个装饰器模式\n",
    "\n",
    "class MyDatabase:\n",
    "    def delete(self):\n",
    "        print('delete')\n",
    "    \n",
    "    def create(self):\n",
    "        print('create')\n",
    "\n",
    "        \n",
    "class DecotatorDB:\n",
    "    def __init__(self, db):\n",
    "        self.db = db\n",
    "    \n",
    "    def save(self):\n",
    "        print('save')\n",
    "    \n",
    "    def update(self):\n",
    "        print('update')\n",
    "    \n",
    "    def __getattr__(self, item):\n",
    "        return getattr(self.db, item)\n",
    "\n",
    "d = DecotatorDB(db=MyDatabase())\n",
    "d.create()\n",
    "d.delete()\n",
    "d.save()\n",
    "d.update()\n"
   ]
  },
  {
   "cell_type": "code",
   "execution_count": 12,
   "metadata": {},
   "outputs": [
    {
     "data": {
      "text/plain": [
       "'\\nGIL是Python的全局解释器锁，同一进程中假如有多个线程运行，一个线程在运行Python程序的时候会霸占Python 解释器（加了一把锁GIL），使该进程内的其他线程无法运行，等该线程运行完后其他线程才能运行。\\n如果线程运行过程中遇到耗时操作，则解释器锁解开，使其他线程运行。\\n所以在多线程中，线程的运行仍是有先后顺序的，并不是同时进行。\\n\\n多进程中因为每个进程都能被系统分配资源相当于每个进程有了一个Python解释器，所以多进程可以实现多个进程的同时运行，缺点是进程系统资源开销大。\\n'"
      ]
     },
     "execution_count": 12,
     "metadata": {},
     "output_type": "execute_result"
    }
   ],
   "source": [
    "# 谈一下Python的GIL\n",
    "\n",
    "'''\n",
    "GIL是Python的全局解释器锁，同一进程中假如有多个线程运行，一个线程在运行Python程序的时候会霸占Python 解释器（加了一把锁GIL），使该进程内的其他线程无法运行，等该线程运行完后其他线程才能运行。\n",
    "如果线程运行过程中遇到耗时操作，则解释器锁解开，使其他线程运行。\n",
    "所以在多线程中，线程的运行仍是有先后顺序的，并不是同时进行。\n",
    "\n",
    "多进程中因为每个进程都能被系统分配资源相当于每个进程有了一个Python解释器，所以多进程可以实现多个进程的同时运行，缺点是进程系统资源开销大。\n",
    "'''"
   ]
  },
  {
   "cell_type": "code",
   "execution_count": 13,
   "metadata": {},
   "outputs": [
    {
     "data": {
      "text/plain": [
       "'\\n一个线程就是一个轻量级进程，多线程能让我们一次执行多个线程。\\n我们都知道，Python 是多线程语言，其内置有多线程工具包。\\nPython 中的GIL（全局解释器锁）确保一次执行单个线程。\\n一个线程保存GIL并在将其传递给下个线程之前执行一些操作，这会让我们产生并行运行的错觉。\\n但实际上，只是线程在CPU上轮流运行。当然，所有的传递会增加程序执行的内存压力。\\n'"
      ]
     },
     "execution_count": 13,
     "metadata": {},
     "output_type": "execute_result"
    }
   ],
   "source": [
    "# Python中如何实现多线程\n",
    "\n",
    "'''\n",
    "一个线程就是一个轻量级进程，多线程能让我们一次执行多个线程。\n",
    "我们都知道，Python 是多线程语言，其内置有多线程工具包。\n",
    "Python 中的GIL（全局解释器锁）确保一次执行单个线程。\n",
    "一个线程保存GIL并在将其传递给下个线程之前执行一些操作，这会让我们产生并行运行的错觉。\n",
    "但实际上，只是线程在CPU上轮流运行。当然，所有的传递会增加程序执行的内存压力。\n",
    "'''"
   ]
  },
  {
   "cell_type": "code",
   "execution_count": 14,
   "metadata": {},
   "outputs": [
    {
     "data": {
      "text/plain": [
       "'\\n当一个类继承自另一个类，他就被称为一个子类/派生类，继承自父类/基类/超类。它会继承/获取所有类成员（属性和方法）。\\n继承能让我们重新使用代码，也能更容易的创建和维护应用。\\nPython下支持如下种类的继承：\\n单继承：一个类继承自单个基类\\n多继承：一个类继承自多个基类\\n多级继承：一个类继承自单个基类，后者则继承自另一个基类\\n分层继承：多个类继承自单个基类\\n混合继承：两种或多种类型继承的混合更多关于继承的内容\\n'"
      ]
     },
     "execution_count": 14,
     "metadata": {},
     "output_type": "execute_result"
    }
   ],
   "source": [
    "# 解释一下Python中的继承\n",
    "\n",
    "'''\n",
    "当一个类继承自另一个类，他就被称为一个子类/派生类，继承自父类/基类/超类。它会继承/获取所有类成员（属性和方法）。\n",
    "继承能让我们重新使用代码，也能更容易的创建和维护应用。\n",
    "Python下支持如下种类的继承：\n",
    "单继承：一个类继承自单个基类\n",
    "多继承：一个类继承自多个基类\n",
    "多级继承：一个类继承自单个基类，后者则继承自另一个基类\n",
    "分层继承：多个类继承自单个基类\n",
    "混合继承：两种或多种类型继承的混合更多关于继承的内容\n",
    "'''"
   ]
  },
  {
   "cell_type": "code",
   "execution_count": null,
   "metadata": {},
   "outputs": [],
   "source": [
    "# 谈谈Python的垃圾回收机制\n",
    "\n"
   ]
  }
 ],
 "metadata": {
  "kernelspec": {
   "display_name": "Python 3",
   "language": "python",
   "name": "python3"
  },
  "language_info": {
   "codemirror_mode": {
    "name": "ipython",
    "version": 3
   },
   "file_extension": ".py",
   "mimetype": "text/x-python",
   "name": "python",
   "nbconvert_exporter": "python",
   "pygments_lexer": "ipython3",
   "version": "3.7.1"
  },
  "toc": {
   "base_numbering": 1,
   "nav_menu": {},
   "number_sections": true,
   "sideBar": true,
   "skip_h1_title": false,
   "title_cell": "Table of Contents",
   "title_sidebar": "Contents",
   "toc_cell": false,
   "toc_position": {},
   "toc_section_display": true,
   "toc_window_display": false
  }
 },
 "nbformat": 4,
 "nbformat_minor": 2
}
